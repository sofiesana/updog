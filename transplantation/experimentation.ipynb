{
 "cells": [
  {
   "cell_type": "code",
   "execution_count": 1,
   "metadata": {},
   "outputs": [],
   "source": [
    "# %load_ext autoreload"
   ]
  },
  {
   "cell_type": "code",
   "execution_count": 2,
   "metadata": {},
   "outputs": [],
   "source": [
    "# %autoreload 1"
   ]
  },
  {
   "cell_type": "code",
   "execution_count": 3,
   "metadata": {},
   "outputs": [],
   "source": [
    "from PIL import Image\n",
    "import fiftyone.zoo as foz\n",
    "import fiftyone as fo\n",
    "from ImageObjectExtractor import ImageObjectExtractor\n",
    "from utils import get_image, get_id_at_index\n",
    "from ImageWithTransplantedObjects import ImageWithTransplantedObjects\n",
    "from ExtractedObject import ExtractedObject\n",
    "import os"
   ]
  },
  {
   "cell_type": "code",
   "execution_count": 4,
   "metadata": {},
   "outputs": [
    {
     "data": {
      "text/plain": [
       "['coco-2017-validation-1',\n",
       " 'coco-2017-validation-10',\n",
       " 'coco-2017-validation-2',\n",
       " 'coco-2017-validation-20',\n",
       " 'coco-2017-validation-3',\n",
       " 'coco-2017-validation-4',\n",
       " 'coco-2017-validation-6',\n",
       " 'testing']"
      ]
     },
     "execution_count": 4,
     "metadata": {},
     "output_type": "execute_result"
    }
   ],
   "source": [
    "fo.list_datasets()"
   ]
  },
  {
   "cell_type": "code",
   "execution_count": 5,
   "metadata": {},
   "outputs": [],
   "source": [
    "og_dataset_name = 'coco-2017-validation-1'\n",
    "dataset = fo.load_dataset(og_dataset_name)\n",
    "save_location='outputs'\n",
    "folder = os.path.join(save_location, og_dataset_name)"
   ]
  },
  {
   "cell_type": "code",
   "execution_count": 6,
   "metadata": {},
   "outputs": [
    {
     "name": "stdout",
     "output_type": "stream",
     "text": [
      "Setup failed: Object with ID 6793d23167682229c0211bea already exists at outputs\\coco-2017-validation-1\\extracted_objects\\6793d23167682229c0211bea.pkl\n",
      "Setup failed: Object with ID 6793d23167682229c0211beb already exists at outputs\\coco-2017-validation-1\\extracted_objects\\6793d23167682229c0211beb.pkl\n"
     ]
    }
   ],
   "source": [
    "for sample in dataset:\n",
    "    save_location = 'outputs'\n",
    "    obj_extract = ImageObjectExtractor(sample, save_location=save_location, filter=True, filter_type=\"min\", og_dataset_name=og_dataset_name)\n",
    "    obj_extract.extract_objects()"
   ]
  },
  {
   "cell_type": "code",
   "execution_count": 7,
   "metadata": {},
   "outputs": [],
   "source": [
    "# load json as dict:\n",
    "import json\n",
    "with open(os.path.join(folder, f'{og_dataset_name}_extracted_objects_log.json')) as f:\n",
    "    data = json.load(f)"
   ]
  },
  {
   "cell_type": "code",
   "execution_count": 8,
   "metadata": {},
   "outputs": [],
   "source": [
    "# get first sample from json data\n",
    "id = get_id_at_index(data, 0)"
   ]
  },
  {
   "cell_type": "code",
   "execution_count": 9,
   "metadata": {},
   "outputs": [
    {
     "name": "stdout",
     "output_type": "stream",
     "text": [
      "Dataset testing already exists. Deleting it.\n"
     ]
    }
   ],
   "source": [
    "new_dataset_name = \"testing\"\n",
    "\n",
    "if new_dataset_name in fo.list_datasets():\n",
    "    print(f\"Dataset {new_dataset_name} already exists. Deleting it.\")\n",
    "    fo.delete_dataset(new_dataset_name)"
   ]
  },
  {
   "cell_type": "code",
   "execution_count": 10,
   "metadata": {},
   "outputs": [],
   "source": [
    "new_image = ImageWithTransplantedObjects(sample=sample, save_location=folder, dataset_name=new_dataset_name)\n",
    "obj = ExtractedObject()\n",
    "obj.load_object(os.path.join(folder,f'extracted_objects/{id}.pkl'))"
   ]
  },
  {
   "cell_type": "code",
   "execution_count": 11,
   "metadata": {},
   "outputs": [
    {
     "name": "stdout",
     "output_type": "stream",
     "text": [
      "Warning: The transplanted image is cut off by the edge of the image\n"
     ]
    }
   ],
   "source": [
    "new_image.add_transplanted_object(obj, (30,30))\n",
    "new_image.save_transplanted_image()"
   ]
  },
  {
   "cell_type": "code",
   "execution_count": 12,
   "metadata": {},
   "outputs": [],
   "source": [
    "# all_transplanted_images = new_image.transplant_with_sliding_window(obj, 10, allow_overlap=False)\n",
    "# print(\"Len All Trans: \", len(all_transplanted_images))\n",
    "\n",
    "# for i, transplanted_image in enumerate(all_transplanted_images):\n",
    "#     print(f\"Saving transplanted image {i+1}...\")\n",
    "#     transplanted_image.display_transplanted_image()"
   ]
  }
 ],
 "metadata": {
  "kernelspec": {
   "display_name": "venv_updog",
   "language": "python",
   "name": "python3"
  },
  "language_info": {
   "codemirror_mode": {
    "name": "ipython",
    "version": 3
   },
   "file_extension": ".py",
   "mimetype": "text/x-python",
   "name": "python",
   "nbconvert_exporter": "python",
   "pygments_lexer": "ipython3",
   "version": "3.12.8"
  }
 },
 "nbformat": 4,
 "nbformat_minor": 2
}
