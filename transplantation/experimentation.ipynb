{
 "cells": [
  {
   "cell_type": "code",
   "execution_count": 18,
   "metadata": {},
   "outputs": [
    {
     "name": "stdout",
     "output_type": "stream",
     "text": [
      "The autoreload extension is already loaded. To reload it, use:\n",
      "  %reload_ext autoreload\n"
     ]
    }
   ],
   "source": [
    "%load_ext autoreload"
   ]
  },
  {
   "cell_type": "code",
   "execution_count": 19,
   "metadata": {},
   "outputs": [],
   "source": [
    "%autoreload 2"
   ]
  },
  {
   "cell_type": "code",
   "execution_count": 20,
   "metadata": {},
   "outputs": [],
   "source": [
    "from PIL import Image\n",
    "import fiftyone.zoo as foz\n",
    "import fiftyone as fo\n",
    "from ImageObjectExtractor import ImageObjectExtractor\n",
    "from utils import get_image\n",
    "from ImageWithTransplantedObjects import ImageWithTransplantedObjects\n",
    "from ExtractedObject import ExtractedObject\n",
    "import os"
   ]
  },
  {
   "cell_type": "code",
   "execution_count": 2,
   "metadata": {},
   "outputs": [
    {
     "name": "stdout",
     "output_type": "stream",
     "text": [
      "['coco-2017-validation-1', 'coco-2017-validation-10', 'coco-2017-validation-2', 'coco-2017-validation-20', 'testing']\n"
     ]
    }
   ],
   "source": [
    "# print available datasets\n",
    "print(fo.list_datasets())"
   ]
  },
  {
   "cell_type": "code",
   "execution_count": 3,
   "metadata": {},
   "outputs": [
    {
     "name": "stdout",
     "output_type": "stream",
     "text": [
      "Downloading split 'validation' to 'C:\\Users\\sophi\\fiftyone\\coco-2017\\validation' if necessary\n",
      "Found annotations at 'C:\\Users\\sophi\\fiftyone\\coco-2017\\raw\\instances_val2017.json'\n",
      "Sufficient images already downloaded\n",
      "Existing download of split 'validation' is sufficient\n",
      "Loading existing dataset 'coco-2017-validation-20'. To reload from disk, either delete the existing dataset or provide a custom `dataset_name` to use\n"
     ]
    }
   ],
   "source": [
    "dataset = foz.load_zoo_dataset(\n",
    "    \"coco-2017\",\n",
    "    split=\"validation\",\n",
    "    label_types=[\"segmentations\"],\n",
    "    max_samples = 20,\n",
    "    classes= 'elephant'\n",
    ")\n",
    "dataset.persistent = True"
   ]
  },
  {
   "cell_type": "code",
   "execution_count": 4,
   "metadata": {},
   "outputs": [],
   "source": [
    "sample = dataset.first()"
   ]
  },
  {
   "cell_type": "code",
   "execution_count": 23,
   "metadata": {},
   "outputs": [
    {
     "name": "stdout",
     "output_type": "stream",
     "text": [
      "extracting objects\n",
      "Setup failed: Object already exists, already extracted\n",
      "outputs/extracted_objects_log.json\n",
      "Object already logged\n",
      "Setup failed: Object already exists, already extracted\n",
      "outputs/extracted_objects_log.json\n",
      "Object already logged\n"
     ]
    }
   ],
   "source": [
    "save_location = 'outputs'\n",
    "obj_extract = ImageObjectExtractor(sample, save_location=save_location, object_log_file='outputs/extracted_objects_log.json')\n",
    "print(\"extracting objects\")\n",
    "obj_extract.extract_objects()"
   ]
  },
  {
   "cell_type": "code",
   "execution_count": null,
   "metadata": {},
   "outputs": [],
   "source": [
    "\n",
    "# original_image_path = sample.filepath\n",
    "# img = Image.open(original_image_path)\n",
    "# new_image = ImageWithTransplantedObjects(img, sample.id, save_location)\n",
    "# obj = ExtractedObject()\n",
    "# obj.load_object(os.path.join(save_location, f'extracted_objects/elephant_{sample.id}.pkl'))\n",
    "# obj.display_extracted_object()\n",
    "# new_image.add_transplanted_object(obj, (0,0))\n",
    "# new_image.add_transplanted_object(obj, (200, 200))\n",
    "# new_image.display_transplanted_image()\n",
    "# new_image.save_transplanted_image()"
   ]
  }
 ],
 "metadata": {
  "kernelspec": {
   "display_name": "venv_updog",
   "language": "python",
   "name": "python3"
  },
  "language_info": {
   "codemirror_mode": {
    "name": "ipython",
    "version": 3
   },
   "file_extension": ".py",
   "mimetype": "text/x-python",
   "name": "python",
   "nbconvert_exporter": "python",
   "pygments_lexer": "ipython3",
   "version": "3.12.8"
  }
 },
 "nbformat": 4,
 "nbformat_minor": 2
}
